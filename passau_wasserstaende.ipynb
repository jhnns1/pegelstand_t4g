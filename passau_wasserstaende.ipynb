{
 "cells": [
  {
   "cell_type": "code",
   "execution_count": 1,
   "metadata": {
    "scrolled": true
   },
   "outputs": [
    {
     "ename": "ModuleNotFoundError",
     "evalue": "No module named 'requests'",
     "output_type": "error",
     "traceback": [
      "\u001b[1;31m---------------------------------------------------------------------------\u001b[0m",
      "\u001b[1;31mModuleNotFoundError\u001b[0m                       Traceback (most recent call last)",
      "\u001b[1;32m<ipython-input-1-3066c9e236ef>\u001b[0m in \u001b[0;36m<module>\u001b[1;34m\u001b[0m\n\u001b[1;32m----> 1\u001b[1;33m \u001b[1;32mimport\u001b[0m \u001b[0mrequests\u001b[0m\u001b[1;33m\u001b[0m\u001b[1;33m\u001b[0m\u001b[0m\n\u001b[0m\u001b[0;32m      2\u001b[0m \u001b[1;33m\u001b[0m\u001b[0m\n\u001b[0;32m      3\u001b[0m \u001b[1;31m# request data for fuzzyId passau and waters Donau, Inn, Ilz\u001b[0m\u001b[1;33m\u001b[0m\u001b[1;33m\u001b[0m\u001b[1;33m\u001b[0m\u001b[0m\n\u001b[0;32m      4\u001b[0m \u001b[0mresponse\u001b[0m \u001b[1;33m=\u001b[0m \u001b[0mrequests\u001b[0m\u001b[1;33m.\u001b[0m\u001b[0mget\u001b[0m\u001b[1;33m(\u001b[0m\u001b[1;34m\"https://www.pegelonline.wsv.de/webservices/rest-api/v2/stations.json?fuzzyId=passau&waters=DONAU,INN,ILZ\"\u001b[0m\u001b[1;33m)\u001b[0m\u001b[1;33m\u001b[0m\u001b[1;33m\u001b[0m\u001b[0m\n\u001b[0;32m      5\u001b[0m \u001b[1;33m\u001b[0m\u001b[0m\n",
      "\u001b[1;31mModuleNotFoundError\u001b[0m: No module named 'requests'"
     ]
    }
   ],
   "source": []
  },
  {
   "cell_type": "code",
   "execution_count": 2,
   "metadata": {},
   "outputs": [
    {
     "name": "stdout",
     "output_type": "stream",
     "text": [
      "Collecting requests\n",
      "  Downloading https://files.pythonhosted.org/packages/1a/70/1935c770cb3be6e3a8b78ced23d7e0f3b187f5cbfab4749523ed65d7c9b1/requests-2.23.0-py2.py3-none-any.whl (58kB)\n",
      "Collecting idna<3,>=2.5 (from requests)\n",
      "  Downloading https://files.pythonhosted.org/packages/89/e3/afebe61c546d18fb1709a61bee788254b40e736cff7271c7de5de2dc4128/idna-2.9-py2.py3-none-any.whl (58kB)\n",
      "Collecting urllib3!=1.25.0,!=1.25.1,<1.26,>=1.21.1 (from requests)\n",
      "  Downloading https://files.pythonhosted.org/packages/e1/e5/df302e8017440f111c11cc41a6b432838672f5a70aa29227bf58149dc72f/urllib3-1.25.9-py2.py3-none-any.whl (126kB)\n",
      "Collecting chardet<4,>=3.0.2 (from requests)\n",
      "  Downloading https://files.pythonhosted.org/packages/bc/a9/01ffebfb562e4274b6487b4bb1ddec7ca55ec7510b22e4c51f14098443b8/chardet-3.0.4-py2.py3-none-any.whl (133kB)\n",
      "Requirement already satisfied: certifi>=2017.4.17 in c:\\users\\johannesheck\\miniconda3\\envs\\py37_attraction\\lib\\site-packages (from requests) (2019.6.16)\n",
      "Installing collected packages: idna, urllib3, chardet, requests\n",
      "Successfully installed chardet-3.0.4 idna-2.9 requests-2.23.0 urllib3-1.25.9\n",
      "Note: you may need to restart the kernel to use updated packages.\n"
     ]
    }
   ],
   "source": [
    "pip install requests"
   ]
  },
  {
   "cell_type": "code",
   "execution_count": 3,
   "metadata": {},
   "outputs": [],
   "source": [
    "import requests\n",
    "\n",
    "# request data for fuzzyId passau and waters Donau, Inn, Ilz\n",
    "response = requests.get(\"https://www.pegelonline.wsv.de/webservices/rest-api/v2/stations.json?fuzzyId=passau&waters=DONAU,INN,ILZ\")\n",
    "\n",
    "data = response.json()\n",
    "\n",
    "# extract 4 stations with their matching uuid\n",
    "stations = [data[i]['uuid'] for i in range(4)]\n",
    "\n",
    "res = list()\n",
    "for i in range(len(stations)):\n",
    "    url_tmp = \"https://www.pegelonline.wsv.de/webservices/rest-api/v2/stations/\" + stations[i] + \"/W/currentmeasurement.json\"\n",
    "    req_tmp = requests.get(url_tmp)\n",
    "    data_tmp = req_tmp.json()\n",
    "    res.append(data_tmp)"
   ]
  },
  {
   "cell_type": "code",
   "execution_count": 18,
   "metadata": {},
   "outputs": [
    {
     "name": "stdout",
     "output_type": "stream",
     "text": [
      "Station: 9f12c405-35ac-4d90-9b7b-023be355867e\n",
      "Pegel: 457.0\n",
      "Trend: steigend\n",
      "Keine Warnung vorliegend.\n",
      "\n",
      "\n",
      "\n",
      "Station: 33ceb441-23bc-4ca6-9fcd-ac35d41ef117\n",
      "Pegel: 470.0\n",
      "Trend: steigend\n",
      "Keine Warnung vorliegend.\n",
      "\n",
      "\n",
      "\n",
      "Station: 4520c1a8-174c-4b95-9ca3-fe1e3f9d874a\n",
      "Leider haben wir für diese Station keine Daten. Wir bitten um Ihr Verständnis.\n",
      "Station: 3199ce09-cd9b-4be2-82bc-f03bb81438e5\n",
      "Leider haben wir für diese Station keine Daten. Wir bitten um Ihr Verständnis.\n"
     ]
    }
   ],
   "source": [
    "print(\"Lieber Nutzer, hier die Wasserstände inkl. Tendenz für die 4 Messstellen in Passau\")\n",
    "for i in range(len(stations)):\n",
    "    print(\"Station: {}\" .format(stations[i]))\n",
    "    try: \n",
    "        print(\"Pegel: {}\" .format(res[i]['value']))\n",
    "        if res[i]['trend'] == 1:\n",
    "              print(\"Trend: steigend\")\n",
    "        elif res[i]['trend'] == -1:\n",
    "              print(\"Trend: fallend\")\n",
    "        else:\n",
    "              print(\"Trend: gebleibend\")\n",
    "        if res[i]['value'] >= 850.0:\n",
    "              print(\"Warnung: Meldestufe 4\")\n",
    "        elif res[i]['value'] >= 770.0:\n",
    "              print(\"Warnung: Meldestufe 3\")\n",
    "        elif res[i]['value'] >= 740.0:\n",
    "              print(\"Warnung: Meldestufe 2\")\n",
    "        elif res[i]['value'] >= 700.0:\n",
    "              print(\"Warnung: Meldestufe 1\")\n",
    "        else: print(\"Keine Warnung vorliegend.\")\n",
    "        print(\"\\n\\n\")\n",
    "    except:\n",
    "        print(\"Leider haben wir für diese Station keine Daten. Wir bitten um Ihr Verständnis.\")\n",
    "        print(\"\\n\\n\")\n",
    "        continue"
   ]
  },
  {
   "cell_type": "code",
   "execution_count": 16,
   "metadata": {},
   "outputs": [
    {
     "data": {
      "text/plain": [
       "[{'timestamp': '2020-05-04T14:15:00+02:00',\n",
       "  'value': 457.0,\n",
       "  'trend': 1,\n",
       "  'stateMnwMhw': 'normal',\n",
       "  'stateNswHsw': 'normal'},\n",
       " {'timestamp': '2020-05-04T14:15:00+02:00',\n",
       "  'value': 470.0,\n",
       "  'trend': 1,\n",
       "  'stateMnwMhw': 'normal',\n",
       "  'stateNswHsw': 'unknown'},\n",
       " {'status': 404,\n",
       "  'message': \"Current measurement for station '4520c1a8-174c-4b95-9ca3-fe1e3f9d874a' and id 'W' does not exist.\"},\n",
       " {'status': 404,\n",
       "  'message': \"Current measurement for station '3199ce09-cd9b-4be2-82bc-f03bb81438e5' and id 'W' does not exist.\"}]"
      ]
     },
     "execution_count": 16,
     "metadata": {},
     "output_type": "execute_result"
    }
   ],
   "source": [
    "res"
   ]
  },
  {
   "cell_type": "raw",
   "metadata": {},
   "source": []
  }
 ],
 "metadata": {
  "kernelspec": {
   "display_name": "Python 3",
   "language": "python",
   "name": "python3"
  },
  "language_info": {
   "codemirror_mode": {
    "name": "ipython",
    "version": 3
   },
   "file_extension": ".py",
   "mimetype": "text/x-python",
   "name": "python",
   "nbconvert_exporter": "python",
   "pygments_lexer": "ipython3",
   "version": "3.7.4"
  },
  "varInspector": {
   "cols": {
    "lenName": 16,
    "lenType": 16,
    "lenVar": 40
   },
   "kernels_config": {
    "python": {
     "delete_cmd_postfix": "",
     "delete_cmd_prefix": "del ",
     "library": "var_list.py",
     "varRefreshCmd": "print(var_dic_list())"
    },
    "r": {
     "delete_cmd_postfix": ") ",
     "delete_cmd_prefix": "rm(",
     "library": "var_list.r",
     "varRefreshCmd": "cat(var_dic_list()) "
    }
   },
   "types_to_exclude": [
    "module",
    "function",
    "builtin_function_or_method",
    "instance",
    "_Feature"
   ],
   "window_display": false
  }
 },
 "nbformat": 4,
 "nbformat_minor": 2
}
